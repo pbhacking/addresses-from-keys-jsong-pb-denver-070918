{
 "cells": [
  {
   "cell_type": "markdown",
   "metadata": {},
   "source": [
    "# Creating Addresses"
   ]
  },
  {
   "cell_type": "code",
   "execution_count": 1,
   "metadata": {},
   "outputs": [
    {
     "name": "stdout",
     "output_type": "stream",
     "text": [
      "b'19ZewH8Kk1PDbSNdJ97FP4EiCjTRaZMZQA'\n"
     ]
    }
   ],
   "source": [
    "# Address Example\n",
    "\n",
    "from helper import encode_base58, hash160, double_sha256\n",
    "sec = bytes.fromhex('025CBDF0646E5DB4EAA398F365F2EA7A0E3D419B7E0330E39CE92BDDEDCAC4F9BC')\n",
    "h160 = hash160(sec)\n",
    "raw = b\"\\x00\" + h160\n",
    "raw = raw + double_sha256(raw)[:4]\n",
    "addr = encode_base58(raw)\n",
    "print(addr)"
   ]
  },
  {
   "cell_type": "markdown",
   "metadata": {},
   "source": [
    "### Try it\n",
    "\n",
    "#### Find the mainnet and testnet addresses corresponding to the private keys:\n",
    "```\n",
    "compressed, 888**3\n",
    "uncompressed, 321\n",
    "uncompressed, 4242424242\n",
    "```"
   ]
  },
  {
   "cell_type": "code",
   "execution_count": 3,
   "metadata": {},
   "outputs": [
    {
     "name": "stdout",
     "output_type": "stream",
     "text": [
      "b'2mgGhrPgTfLUfcttNRqSNThKMJYq3EGNFD7iXMprPk21DAnSdk'\n",
      "b'2wdgvy5smW19vU4ZLKjBqEGGwYueahj4CCKYMwyxGLk2h3oc6M'\n",
      "\n",
      "b'cptdmbQ74oGt6FN8hvebaBHiETTBFuXDBRCVSWcPeZ47gR8R3'\n",
      "b'WDFn3r7h9iJoP3jayboqkzp3MdTQ8EtBYkyjDVe4tgooMgaZM'\n",
      "\n",
      "b'iv5jVGAhhyoeaoAjkgwBqzzUZ65m3rpMYGRwTMP6h5u1cmuum'\n",
      "b'2nwRVdjQwi1gNoRP74SGPbAtXCYhaSusrRGHQiGtaZzXJ1daCF'\n",
      "\n"
     ]
    }
   ],
   "source": [
    "from ecc import G\n",
    "\n",
    "from helper import double_sha256, encode_base58, hash160\n",
    "\n",
    "components = (\n",
    "    # (compressed, secret)\n",
    "    (True, 888**3),\n",
    "    (False, 321),\n",
    "    (False, 4242424242),\n",
    ")\n",
    "\n",
    "# iterate through components\n",
    "for compressed, secret in components:\n",
    "    # get the public point\n",
    "    point = secret * G\n",
    "    # get the sec format\n",
    "    sec = point.sec(compressed=compressed)\n",
    "    # hash160 the result\n",
    "    hashed = hash160(sec)\n",
    "    # prepend b'\\x00' for mainnet b'\\x6f' for testnet\n",
    "    prefix_m = b'\\x00'\n",
    "    prefix_t = b'\\x6f'\n",
    "    m = prefix_m + hashed\n",
    "    t = prefix_t + hashed\n",
    "    \n",
    "    m = double_sha256(m)\n",
    "    t = double_sha256(t)\n",
    "    \n",
    "    m += m[:4]\n",
    "    t += t[:4]\n",
    "    \n",
    "    print(encode_base58(m))\n",
    "    print(encode_base58(t))\n",
    "    print()\n",
    "        # raw is the prefix + h160\n",
    "        # get the double_sha256 of raw, first 4 bytes are the checksum\n",
    "        # append checksum\n",
    "        # encode_base58 the whole thing"
   ]
  },
  {
   "cell_type": "markdown",
   "metadata": {},
   "source": [
    "### Test Driven Exercise"
   ]
  },
  {
   "cell_type": "code",
   "execution_count": null,
   "metadata": {},
   "outputs": [],
   "source": [
    "from ecc import S256Point, G\n",
    "\n",
    "from helper import double_sha256, encode_base58, hash160\n",
    "\n",
    "class S256Point(S256Point):\n",
    "\n",
    "    def address(self, compressed=True, testnet=False):\n",
    "        '''Returns the address string'''\n",
    "        # get the sec\n",
    "        sec = self.sec(compressed=compressed)\n",
    "        # hash160 the sec\n",
    "        hashed = hash160(sec)\n",
    "        # raw is hash 160 prepended w/ b'\\x00' for mainnet, b'\\x6f' for testnet\n",
    "        prefix = b'\\x6f' if testnet else v'\\x00'\n",
    "        raw = prefix + hashed\n",
    "        # checksum is first 4 bytes of double_sha256 of raw\n",
    "        checksum = raw[:4]\n",
    "        # encode_base58 the raw + checksum\n",
    "        base58 = raw + checksum\n",
    "        # return as a string, you can use .decode('ascii') to do this.\n",
    "        return base58.de"
   ]
  }
 ],
 "metadata": {
  "kernelspec": {
   "display_name": "Python 3",
   "language": "python",
   "name": "python3"
  },
  "language_info": {
   "codemirror_mode": {
    "name": "ipython",
    "version": 3
   },
   "file_extension": ".py",
   "mimetype": "text/x-python",
   "name": "python",
   "nbconvert_exporter": "python",
   "pygments_lexer": "ipython3",
   "version": "3.6.4"
  }
 },
 "nbformat": 4,
 "nbformat_minor": 2
}
